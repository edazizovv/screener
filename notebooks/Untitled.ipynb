{
 "cells": [
  {
   "cell_type": "code",
   "execution_count": 1,
   "id": "90e29e0f",
   "metadata": {},
   "outputs": [],
   "source": [
    "from selenium import webdriver\n",
    "from selenium.webdriver.common.by import By\n",
    "from selenium.webdriver.support.ui import Select\n",
    "from selenium.webdriver.firefox.options import Options"
   ]
  },
  {
   "cell_type": "code",
   "execution_count": 2,
   "id": "be703271",
   "metadata": {},
   "outputs": [],
   "source": [
    "query_url = 'https://data.binance.vision/?prefix=data/futures/um/daily/klines/'"
   ]
  },
  {
   "cell_type": "code",
   "execution_count": 3,
   "id": "087fb2ee",
   "metadata": {},
   "outputs": [],
   "source": [
    "options = Options()\n",
    "# options.add_argument(\"--headless\")\n",
    "# prefs = {\"download.default_directory\": \"C:/TET/hmg/data\"};\n",
    "# options.add_experimental_option(\"prefs\", prefs);\n",
    "driver = webdriver.Firefox(options=options)\n",
    "driver.get(query_url)\n",
    "pass"
   ]
  },
  {
   "cell_type": "code",
   "execution_count": 7,
   "id": "a2d7c39b",
   "metadata": {},
   "outputs": [],
   "source": [
    "# class=\"finam-ui-controls-select-title\"\n",
    "# xpath: /html/body/div[19]/div/ul/li[2]/a\n",
    "# /html/body/div[19]/div/ul/li[1]/a\n",
    "\n",
    "# driver.find_element_by_xpath(\"//div[@id='a']//a[@class='click']\")\n",
    "# river.find_element_by_xpath(\"/html/body/div[19]/div/ul/li[2]/a\")\n",
    "# nein = \"/html/body/div[19]/div/ul/li[2]/a\"\n",
    "# nein = \"/html/body/div[3]/div/div[3]/div/table/tbody/tr/td/div/div/div[2]/div[2]/div/div[2]/div[1]/form/table/tbody/tr[1]/td[3]/div/div[1]\"\n",
    "\n",
    "# name = 'BTCUSDT'\n",
    "nein = \"//*[contains(text(), 'BTCUSDT')]\"\n",
    "\n",
    "elem = driver.find_elements(By.XPATH, nein)\n",
    "\n"
   ]
  },
  {
   "cell_type": "code",
   "execution_count": 9,
   "id": "095187f5",
   "metadata": {},
   "outputs": [
    {
     "data": {
      "text/plain": [
       "10"
      ]
     },
     "execution_count": 9,
     "metadata": {},
     "output_type": "execute_result"
    }
   ],
   "source": [
    "len(elem)"
   ]
  },
  {
   "cell_type": "code",
   "execution_count": 15,
   "id": "eddda7ae",
   "metadata": {},
   "outputs": [
    {
     "data": {
      "text/plain": [
       "<selenium.webdriver.remote.webelement.WebElement (session=\"03db54bc-b50d-41ef-adc6-8107873a991f\", element=\"f40e3bd7-d85a-4f07-9ac0-06de6773245f\")>"
      ]
     },
     "execution_count": 15,
     "metadata": {},
     "output_type": "execute_result"
    }
   ],
   "source": [
    "elem[0]"
   ]
  },
  {
   "cell_type": "code",
   "execution_count": 30,
   "id": "9be74829",
   "metadata": {},
   "outputs": [
    {
     "ename": "StaleElementReferenceException",
     "evalue": "Message: The element reference of [object String] \"{\\\"element-6066-11e4-a52e-4f735466cecf\\\":\\\"a5f7278a-9f6c-4ff4-b2d4-6f26fb67c778\\\"}\" is stale; either the element is no longer attached to the DOM, it is not in the current frame context, or the document has been refreshed\nStacktrace:\nRemoteError@chrome://remote/content/shared/RemoteError.sys.mjs:8:8\nWebDriverError@chrome://remote/content/shared/webdriver/Errors.sys.mjs:182:5\nStaleElementReferenceError@chrome://remote/content/shared/webdriver/Errors.sys.mjs:463:5\nelement.resolveElement@chrome://remote/content/marionette/element.sys.mjs:674:11\nevaluate.fromJSON@chrome://remote/content/marionette/evaluate.sys.mjs:255:31\nevaluate.fromJSON@chrome://remote/content/marionette/evaluate.sys.mjs:263:29\nreceiveMessage@chrome://remote/content/marionette/actors/MarionetteCommandsChild.sys.mjs:74:34\n",
     "output_type": "error",
     "traceback": [
      "\u001b[1;31m---------------------------------------------------------------------------\u001b[0m",
      "\u001b[1;31mStaleElementReferenceException\u001b[0m            Traceback (most recent call last)",
      "Cell \u001b[1;32mIn[30], line 1\u001b[0m\n\u001b[1;32m----> 1\u001b[0m \u001b[43melem\u001b[49m\u001b[43m[\u001b[49m\u001b[38;5;241;43m1\u001b[39;49m\u001b[43m]\u001b[49m\u001b[38;5;241;43m.\u001b[39;49m\u001b[43mclick\u001b[49m\u001b[43m(\u001b[49m\u001b[43m)\u001b[49m\n",
      "File \u001b[1;32mC:\\TET\\env\\screener\\lib\\site-packages\\selenium\\webdriver\\remote\\webelement.py:93\u001b[0m, in \u001b[0;36mWebElement.click\u001b[1;34m(self)\u001b[0m\n\u001b[0;32m     91\u001b[0m \u001b[38;5;28;01mdef\u001b[39;00m \u001b[38;5;21mclick\u001b[39m(\u001b[38;5;28mself\u001b[39m) \u001b[38;5;241m-\u001b[39m\u001b[38;5;241m>\u001b[39m \u001b[38;5;28;01mNone\u001b[39;00m:\n\u001b[0;32m     92\u001b[0m \u001b[38;5;250m    \u001b[39m\u001b[38;5;124;03m\"\"\"Clicks the element.\"\"\"\u001b[39;00m\n\u001b[1;32m---> 93\u001b[0m     \u001b[38;5;28;43mself\u001b[39;49m\u001b[38;5;241;43m.\u001b[39;49m\u001b[43m_execute\u001b[49m\u001b[43m(\u001b[49m\u001b[43mCommand\u001b[49m\u001b[38;5;241;43m.\u001b[39;49m\u001b[43mCLICK_ELEMENT\u001b[49m\u001b[43m)\u001b[49m\n",
      "File \u001b[1;32mC:\\TET\\env\\screener\\lib\\site-packages\\selenium\\webdriver\\remote\\webelement.py:410\u001b[0m, in \u001b[0;36mWebElement._execute\u001b[1;34m(self, command, params)\u001b[0m\n\u001b[0;32m    408\u001b[0m     params \u001b[38;5;241m=\u001b[39m {}\n\u001b[0;32m    409\u001b[0m params[\u001b[38;5;124m\"\u001b[39m\u001b[38;5;124mid\u001b[39m\u001b[38;5;124m\"\u001b[39m] \u001b[38;5;241m=\u001b[39m \u001b[38;5;28mself\u001b[39m\u001b[38;5;241m.\u001b[39m_id\n\u001b[1;32m--> 410\u001b[0m \u001b[38;5;28;01mreturn\u001b[39;00m \u001b[38;5;28;43mself\u001b[39;49m\u001b[38;5;241;43m.\u001b[39;49m\u001b[43m_parent\u001b[49m\u001b[38;5;241;43m.\u001b[39;49m\u001b[43mexecute\u001b[49m\u001b[43m(\u001b[49m\u001b[43mcommand\u001b[49m\u001b[43m,\u001b[49m\u001b[43m \u001b[49m\u001b[43mparams\u001b[49m\u001b[43m)\u001b[49m\n",
      "File \u001b[1;32mC:\\TET\\env\\screener\\lib\\site-packages\\selenium\\webdriver\\remote\\webdriver.py:444\u001b[0m, in \u001b[0;36mWebDriver.execute\u001b[1;34m(self, driver_command, params)\u001b[0m\n\u001b[0;32m    442\u001b[0m response \u001b[38;5;241m=\u001b[39m \u001b[38;5;28mself\u001b[39m\u001b[38;5;241m.\u001b[39mcommand_executor\u001b[38;5;241m.\u001b[39mexecute(driver_command, params)\n\u001b[0;32m    443\u001b[0m \u001b[38;5;28;01mif\u001b[39;00m response:\n\u001b[1;32m--> 444\u001b[0m     \u001b[38;5;28;43mself\u001b[39;49m\u001b[38;5;241;43m.\u001b[39;49m\u001b[43merror_handler\u001b[49m\u001b[38;5;241;43m.\u001b[39;49m\u001b[43mcheck_response\u001b[49m\u001b[43m(\u001b[49m\u001b[43mresponse\u001b[49m\u001b[43m)\u001b[49m\n\u001b[0;32m    445\u001b[0m     response[\u001b[38;5;124m\"\u001b[39m\u001b[38;5;124mvalue\u001b[39m\u001b[38;5;124m\"\u001b[39m] \u001b[38;5;241m=\u001b[39m \u001b[38;5;28mself\u001b[39m\u001b[38;5;241m.\u001b[39m_unwrap_value(response\u001b[38;5;241m.\u001b[39mget(\u001b[38;5;124m\"\u001b[39m\u001b[38;5;124mvalue\u001b[39m\u001b[38;5;124m\"\u001b[39m, \u001b[38;5;28;01mNone\u001b[39;00m))\n\u001b[0;32m    446\u001b[0m     \u001b[38;5;28;01mreturn\u001b[39;00m response\n",
      "File \u001b[1;32mC:\\TET\\env\\screener\\lib\\site-packages\\selenium\\webdriver\\remote\\errorhandler.py:249\u001b[0m, in \u001b[0;36mErrorHandler.check_response\u001b[1;34m(self, response)\u001b[0m\n\u001b[0;32m    247\u001b[0m         alert_text \u001b[38;5;241m=\u001b[39m value[\u001b[38;5;124m\"\u001b[39m\u001b[38;5;124malert\u001b[39m\u001b[38;5;124m\"\u001b[39m]\u001b[38;5;241m.\u001b[39mget(\u001b[38;5;124m\"\u001b[39m\u001b[38;5;124mtext\u001b[39m\u001b[38;5;124m\"\u001b[39m)\n\u001b[0;32m    248\u001b[0m     \u001b[38;5;28;01mraise\u001b[39;00m exception_class(message, screen, stacktrace, alert_text)  \u001b[38;5;66;03m# type: ignore[call-arg]  # mypy is not smart enough here\u001b[39;00m\n\u001b[1;32m--> 249\u001b[0m \u001b[38;5;28;01mraise\u001b[39;00m exception_class(message, screen, stacktrace)\n",
      "\u001b[1;31mStaleElementReferenceException\u001b[0m: Message: The element reference of [object String] \"{\\\"element-6066-11e4-a52e-4f735466cecf\\\":\\\"a5f7278a-9f6c-4ff4-b2d4-6f26fb67c778\\\"}\" is stale; either the element is no longer attached to the DOM, it is not in the current frame context, or the document has been refreshed\nStacktrace:\nRemoteError@chrome://remote/content/shared/RemoteError.sys.mjs:8:8\nWebDriverError@chrome://remote/content/shared/webdriver/Errors.sys.mjs:182:5\nStaleElementReferenceError@chrome://remote/content/shared/webdriver/Errors.sys.mjs:463:5\nelement.resolveElement@chrome://remote/content/marionette/element.sys.mjs:674:11\nevaluate.fromJSON@chrome://remote/content/marionette/evaluate.sys.mjs:255:31\nevaluate.fromJSON@chrome://remote/content/marionette/evaluate.sys.mjs:263:29\nreceiveMessage@chrome://remote/content/marionette/actors/MarionetteCommandsChild.sys.mjs:74:34\n"
     ]
    }
   ],
   "source": [
    "elem[1].click()"
   ]
  },
  {
   "cell_type": "code",
   "execution_count": 18,
   "id": "094b8a77",
   "metadata": {},
   "outputs": [],
   "source": [
    "nein = \"//*[contains(text(), '1h')]\"\n",
    "\n",
    "gelem = driver.find_element(By.XPATH, nein)"
   ]
  },
  {
   "cell_type": "code",
   "execution_count": 20,
   "id": "631c2b6a",
   "metadata": {},
   "outputs": [],
   "source": [
    "gelem.click()"
   ]
  },
  {
   "cell_type": "code",
   "execution_count": 21,
   "id": "76da0e65",
   "metadata": {},
   "outputs": [],
   "source": [
    "nein = \"//*[contains(text(), 'BTCUSDT-1h') and not(contains(text(), 'CHECKSUM'))]\"\n",
    "\n",
    "velem = driver.find_elements(By.XPATH, nein)"
   ]
  },
  {
   "cell_type": "code",
   "execution_count": 23,
   "id": "4a5e0cc5",
   "metadata": {},
   "outputs": [
    {
     "data": {
      "text/plain": [
       "1107"
      ]
     },
     "execution_count": 23,
     "metadata": {},
     "output_type": "execute_result"
    }
   ],
   "source": [
    "len(velem)"
   ]
  },
  {
   "cell_type": "code",
   "execution_count": 27,
   "id": "b158ee9e",
   "metadata": {},
   "outputs": [],
   "source": [
    "velem[1].click()"
   ]
  },
  {
   "cell_type": "code",
   "execution_count": 26,
   "id": "aa5b5a43",
   "metadata": {},
   "outputs": [
    {
     "data": {
      "text/plain": [
       "'BTCUSDT-1h-2023-01-10.zip'"
      ]
     },
     "execution_count": 26,
     "metadata": {},
     "output_type": "execute_result"
    }
   ],
   "source": [
    "velem[0].get_attribute('text')"
   ]
  },
  {
   "cell_type": "code",
   "execution_count": 29,
   "id": "3511a6f8",
   "metadata": {},
   "outputs": [],
   "source": [
    "driver.back()"
   ]
  },
  {
   "cell_type": "code",
   "execution_count": null,
   "id": "dbef0e2d",
   "metadata": {},
   "outputs": [],
   "source": [
    "driver.close()"
   ]
  }
 ],
 "metadata": {
  "kernelspec": {
   "display_name": "Python 3 (ipykernel)",
   "language": "python",
   "name": "python3"
  },
  "language_info": {
   "codemirror_mode": {
    "name": "ipython",
    "version": 3
   },
   "file_extension": ".py",
   "mimetype": "text/x-python",
   "name": "python",
   "nbconvert_exporter": "python",
   "pygments_lexer": "ipython3",
   "version": "3.10.6"
  }
 },
 "nbformat": 4,
 "nbformat_minor": 5
}
